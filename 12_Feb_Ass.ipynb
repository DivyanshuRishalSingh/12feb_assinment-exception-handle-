{
 "cells": [
  {
   "cell_type": "code",
   "execution_count": 2,
   "id": "522ba5c0-a1d8-4b98-91b8-faacd66f2b2a",
   "metadata": {},
   "outputs": [],
   "source": [
    "                          ASSIGNMENT-12Feb(Exception handling part-1)"
   ]
  },
  {
   "cell_type": "code",
   "execution_count": null,
   "id": "bba0ec44-d9b8-414d-adc3-0871c961f452",
   "metadata": {},
   "outputs": [],
   "source": [
    "Q1.what is an exception in python?write the difference between exception and syntax errors.\n",
    "Ans->In python code syntex is write but if we excuted the programme we find some error this type \n",
    "     of situatiopn know as exception.\n",
    "     exception->error due to exception->if a=10\n",
    "                                           a/0(\"assumption case syntex is write but python get error\")\n",
    "     syntex error->syntex of code is not write-> a=\"amit\"\n",
    "                                                 a/2 (strint not divided by integer)"
   ]
  },
  {
   "cell_type": "code",
   "execution_count": null,
   "id": "f56727fc-627b-44df-b5d6-6a4561969ab0",
   "metadata": {},
   "outputs": [],
   "source": [
    "Q2.what happens when an exception is not handle?explain with exemple?\n",
    "ans->if the exception is not handle by except statment then finally statment executed after except statmen"
   ]
  },
  {
   "cell_type": "code",
   "execution_count": 4,
   "id": "fd07f83e-cf1d-43f1-8397-8f321ae08023",
   "metadata": {},
   "outputs": [],
   "source": [
    "import logging\n",
    "logging.basicConfig(filename=\"divu.txt\",level=logging.NOTSET,format='%(asctime)s %(levelname)s %(name)s %(message)s')\n",
    "a=10\n",
    "try:\n",
    "    a/5\n",
    "except Exception as e:\n",
    "    print(e)\n",
    "finally:\n",
    "    logging.info(\"try,except statment executed or not but finally statment executed any situation\")"
   ]
  },
  {
   "cell_type": "code",
   "execution_count": null,
   "id": "1f36cf56-6df8-4c85-b988-ee71a4278441",
   "metadata": {},
   "outputs": [],
   "source": [
    "Q3.which python statement are used to catch and handle exception?explain with an example.\n",
    "ans->'try & except' statment are used to catch and handle exception ."
   ]
  },
  {
   "cell_type": "code",
   "execution_count": 6,
   "id": "26bdcdb7-c8e3-405c-96a8-d3db29fd3dd1",
   "metadata": {},
   "outputs": [
    {
     "name": "stdout",
     "output_type": "stream",
     "text": [
      "division by zero\n"
     ]
    }
   ],
   "source": [
    "eg.\n",
    "try:\n",
    "    10/0\n",
    "except Exception as d:\n",
    "    print(d)"
   ]
  },
  {
   "cell_type": "code",
   "execution_count": null,
   "id": "93949e3b-3891-445b-b61d-56d2f09d7249",
   "metadata": {},
   "outputs": [],
   "source": [
    "Q4.Explain with example:\n",
    "    a.try and else->'try' is used to handle the exception or assumption case and 'else' if try have no ant \n",
    "                     assumption or exception then else excuted successfully \n",
    "    eg.\n",
    "        a=10\n",
    "        try:\n",
    "            a/5\n",
    "        else:\n",
    "            logging.info(\"our code have no any assumption\")\n",
    "    \n",
    "    finally->always executed where code have assumption or not.\n",
    "    a=10\n",
    "        try:\n",
    "            a/5\n",
    "        finally:\n",
    "            logging.info(\"always exceuted where code have exception or not\")\n",
    "            \n",
    "    raise->basically use when we make there custom exception\n",
    "     eg.\n",
    "        class A(Exception):\n",
    "            def __init__(self,msg):\n",
    "                self.msg=msg\n",
    "        def fun(age):\n",
    "            if age<0:\n",
    "                raise A(\"age is negative which is not possible\")\n",
    "            elif age>110:\n",
    "                raise A(\"age is more maximu which is not possible\")\n",
    "            else:\n",
    "                logging.info(\"valid age\")\n",
    "        \n",
    "        try:\n",
    "            age=int(input(\"enter age\"))\n",
    "            fun(age)\n",
    "        except Exception as e:\n",
    "            print(\"error due to->\",e)"
   ]
  },
  {
   "cell_type": "code",
   "execution_count": null,
   "id": "76f0dcc6-d822-4e8f-8368-e98607be0210",
   "metadata": {},
   "outputs": [],
   "source": [
    "Q5.what is custom exception in python?why do you need custom Exception?explain with \n",
    "   example?\n",
    "\n",
    "Ans->Suppose you need to develop a program that converts a temperature from Fahrenheit to Celsius.\n",
    "\n",
    "The minimum and maximum values of a temperature in Fahrenheit are 32 and 212.\n",
    "   If users enter a value that is not in this range, you want to raise a\n",
    "   custom exception \n",
    "   e.g.\n",
    "     class CustomException(Exception):\n",
    "        \"\"\" my custom exception class \"\"\"\n",
    "\n",
    "\n",
    "try:\n",
    "    raise CustomException('This is my custom exception')\n",
    "except CustomException as ex:\n",
    "    print(ex)"
   ]
  },
  {
   "cell_type": "code",
   "execution_count": null,
   "id": "41090359-47da-4b33-8e22-4f9ac2ef5709",
   "metadata": {},
   "outputs": [],
   "source": [
    "Q6.create custom exception class?use this class to hendle the exception?\n",
    "ans->\n",
    "     class A(Exception):\n",
    "            def __init__(self,msg):\n",
    "                self.msg=msg\n",
    "        def fun(age):\n",
    "            if age<0:\n",
    "                raise A(\"age is negative which is not possible\")\n",
    "            elif age>110:\n",
    "                raise A(\"age is more maximu which is not possible\")\n",
    "            else:\n",
    "                logging.info(\"valid age\")\n",
    "        \n",
    "        try:\n",
    "            age=int(input(\"enter age\"))\n",
    "            fun(age)\n",
    "        except Exception as e:\n",
    "            print(\"error due to->\",e)"
   ]
  }
 ],
 "metadata": {
  "kernelspec": {
   "display_name": "Python 3 (ipykernel)",
   "language": "python",
   "name": "python3"
  },
  "language_info": {
   "codemirror_mode": {
    "name": "ipython",
    "version": 3
   },
   "file_extension": ".py",
   "mimetype": "text/x-python",
   "name": "python",
   "nbconvert_exporter": "python",
   "pygments_lexer": "ipython3",
   "version": "3.10.8"
  }
 },
 "nbformat": 4,
 "nbformat_minor": 5
}
